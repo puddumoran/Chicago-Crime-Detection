{
  "cells": [
    {
      "cell_type": "markdown",
      "metadata": {
        "id": "MVjww9hlT4_K"
      },
      "source": [
        "# Assignment Soultion :-  WEEK -2 \n",
        "\n",
        "# Elections are an integral part of a democracy . \n",
        "# Lots of people means lots of data.Drawing inference from this huge set of data is also necessary to see how India votes . Can Pandas come to our help in this messy work ?\n",
        " "
      ]
    },
    {
      "cell_type": "markdown",
      "metadata": {
        "id": "R-jixuWuT4_T"
      },
      "source": [
        "# We are using election data of U.P. Assembly Elections that were held in 2017 .\n",
        "# Since U.P. Polls for 2022 are also going on there is a good chance that we mught hand you oer that data to work on .\n"
      ]
    },
    {
      "cell_type": "code",
      "execution_count": null,
      "metadata": {
        "id": "kzqYVVM6T4_U"
      },
      "outputs": [],
      "source": [
        ""
      ]
    },
    {
      "cell_type": "markdown",
      "metadata": {
        "id": "FctYtH2bT4_V"
      },
      "source": [
        "# Import Pandas and NumPy "
      ]
    },
    {
      "cell_type": "code",
      "execution_count": 1,
      "metadata": {
        "id": "Fb1y3SzxT4_V"
      },
      "outputs": [],
      "source": [
        "import pandas as pd\n",
        "import numpy as np"
      ]
    },
    {
      "cell_type": "markdown",
      "metadata": {
        "id": "JNwB1yseT4_W"
      },
      "source": [
        "# Do not disturb"
      ]
    },
    {
      "cell_type": "code",
      "execution_count": 2,
      "metadata": {
        "id": "B8REvCxGT4_X"
      },
      "outputs": [],
      "source": [
        "pd.set_option('Display.max_rows',None)\n",
        "pd.set_option('Display.max_rows',None)\n",
        "pd.set_option('Display.max_colwidth',None)"
      ]
    },
    {
      "cell_type": "markdown",
      "metadata": {
        "id": "XMAKwdrqT4_Y"
      },
      "source": [
        "# Load the DataSet"
      ]
    },
    {
      "cell_type": "code",
      "execution_count": 146,
      "metadata": {
        "colab": {
          "base_uri": "https://localhost:8080/"
        },
        "id": "K-lyF-ReT4_a",
        "outputId": "ddae9ce0-e530-41fc-8bbb-192c5a7202c2"
      },
      "outputs": [
        {
          "output_type": "execute_result",
          "data": {
            "text/plain": [
              "11"
            ]
          },
          "metadata": {},
          "execution_count": 146
        }
      ],
      "source": [
        "ad=pd.read_csv(\"/content/UP Elections 2017 data.csv\")\n",
        "11"
      ]
    },
    {
      "cell_type": "markdown",
      "metadata": {
        "id": "M64LA3UIT4_c"
      },
      "source": [
        "# Show the top 5 rows of the dataset"
      ]
    },
    {
      "cell_type": "code",
      "execution_count": 5,
      "metadata": {
        "colab": {
          "base_uri": "https://localhost:8080/",
          "height": 354
        },
        "id": "elVg3VCpT4_d",
        "outputId": "ee1b5768-43c1-416b-fdf2-a59115f89139"
      },
      "outputs": [
        {
          "output_type": "execute_result",
          "data": {
            "text/plain": [
              "          AC Name  AC No. Type District          Winning Candidate  \\\n",
              "0  Lucknow Cantt.     175  GEN  Lucknow            Dr. Reeta Joshi   \n",
              "1     Agra Cantt.      87   SC     Agra  Dr. Girraj Singh Dharmesh   \n",
              "2      Agra North      89  GEN     Agra          Jagan Prasad Garg   \n",
              "3      Agra Rural      90   SC     Agra            Hemlata Diwakar   \n",
              "4      Agra South      88  GEN     Agra         Yogendra Upadhyaya   \n",
              "\n",
              "                   Party  Total Electors  Total Votes   Poll%  Margin Margin %  \n",
              "0  Bharatiya Janta Party          368291       186283  50.6 %   33796    18.1%  \n",
              "1  Bharatiya Janta Party          427507       251631  58.9 %   46325    18.4%  \n",
              "2  Bharatiya Janta Party          395516       229503  58.0 %   86320    37.6%  \n",
              "3  Bharatiya Janta Party          392452       248070  63.2 %   65296    26.3%  \n",
              "4  Bharatiya Janta Party          348576       216472  62.1 %   54225    25.0%  "
            ],
            "text/html": [
              "\n",
              "  <div id=\"df-d7d5f36e-95b4-416f-afc0-bcf02e88cffd\">\n",
              "    <div class=\"colab-df-container\">\n",
              "      <div>\n",
              "<style scoped>\n",
              "    .dataframe tbody tr th:only-of-type {\n",
              "        vertical-align: middle;\n",
              "    }\n",
              "\n",
              "    .dataframe tbody tr th {\n",
              "        vertical-align: top;\n",
              "    }\n",
              "\n",
              "    .dataframe thead th {\n",
              "        text-align: right;\n",
              "    }\n",
              "</style>\n",
              "<table border=\"1\" class=\"dataframe\">\n",
              "  <thead>\n",
              "    <tr style=\"text-align: right;\">\n",
              "      <th></th>\n",
              "      <th>AC Name</th>\n",
              "      <th>AC No.</th>\n",
              "      <th>Type</th>\n",
              "      <th>District</th>\n",
              "      <th>Winning Candidate</th>\n",
              "      <th>Party</th>\n",
              "      <th>Total Electors</th>\n",
              "      <th>Total Votes</th>\n",
              "      <th>Poll%</th>\n",
              "      <th>Margin</th>\n",
              "      <th>Margin %</th>\n",
              "    </tr>\n",
              "  </thead>\n",
              "  <tbody>\n",
              "    <tr>\n",
              "      <th>0</th>\n",
              "      <td>Lucknow Cantt.</td>\n",
              "      <td>175</td>\n",
              "      <td>GEN</td>\n",
              "      <td>Lucknow</td>\n",
              "      <td>Dr. Reeta Joshi</td>\n",
              "      <td>Bharatiya Janta Party</td>\n",
              "      <td>368291</td>\n",
              "      <td>186283</td>\n",
              "      <td>50.6 %</td>\n",
              "      <td>33796</td>\n",
              "      <td>18.1%</td>\n",
              "    </tr>\n",
              "    <tr>\n",
              "      <th>1</th>\n",
              "      <td>Agra Cantt.</td>\n",
              "      <td>87</td>\n",
              "      <td>SC</td>\n",
              "      <td>Agra</td>\n",
              "      <td>Dr. Girraj Singh Dharmesh</td>\n",
              "      <td>Bharatiya Janta Party</td>\n",
              "      <td>427507</td>\n",
              "      <td>251631</td>\n",
              "      <td>58.9 %</td>\n",
              "      <td>46325</td>\n",
              "      <td>18.4%</td>\n",
              "    </tr>\n",
              "    <tr>\n",
              "      <th>2</th>\n",
              "      <td>Agra North</td>\n",
              "      <td>89</td>\n",
              "      <td>GEN</td>\n",
              "      <td>Agra</td>\n",
              "      <td>Jagan Prasad Garg</td>\n",
              "      <td>Bharatiya Janta Party</td>\n",
              "      <td>395516</td>\n",
              "      <td>229503</td>\n",
              "      <td>58.0 %</td>\n",
              "      <td>86320</td>\n",
              "      <td>37.6%</td>\n",
              "    </tr>\n",
              "    <tr>\n",
              "      <th>3</th>\n",
              "      <td>Agra Rural</td>\n",
              "      <td>90</td>\n",
              "      <td>SC</td>\n",
              "      <td>Agra</td>\n",
              "      <td>Hemlata Diwakar</td>\n",
              "      <td>Bharatiya Janta Party</td>\n",
              "      <td>392452</td>\n",
              "      <td>248070</td>\n",
              "      <td>63.2 %</td>\n",
              "      <td>65296</td>\n",
              "      <td>26.3%</td>\n",
              "    </tr>\n",
              "    <tr>\n",
              "      <th>4</th>\n",
              "      <td>Agra South</td>\n",
              "      <td>88</td>\n",
              "      <td>GEN</td>\n",
              "      <td>Agra</td>\n",
              "      <td>Yogendra Upadhyaya</td>\n",
              "      <td>Bharatiya Janta Party</td>\n",
              "      <td>348576</td>\n",
              "      <td>216472</td>\n",
              "      <td>62.1 %</td>\n",
              "      <td>54225</td>\n",
              "      <td>25.0%</td>\n",
              "    </tr>\n",
              "  </tbody>\n",
              "</table>\n",
              "</div>\n",
              "      <button class=\"colab-df-convert\" onclick=\"convertToInteractive('df-d7d5f36e-95b4-416f-afc0-bcf02e88cffd')\"\n",
              "              title=\"Convert this dataframe to an interactive table.\"\n",
              "              style=\"display:none;\">\n",
              "        \n",
              "  <svg xmlns=\"http://www.w3.org/2000/svg\" height=\"24px\"viewBox=\"0 0 24 24\"\n",
              "       width=\"24px\">\n",
              "    <path d=\"M0 0h24v24H0V0z\" fill=\"none\"/>\n",
              "    <path d=\"M18.56 5.44l.94 2.06.94-2.06 2.06-.94-2.06-.94-.94-2.06-.94 2.06-2.06.94zm-11 1L8.5 8.5l.94-2.06 2.06-.94-2.06-.94L8.5 2.5l-.94 2.06-2.06.94zm10 10l.94 2.06.94-2.06 2.06-.94-2.06-.94-.94-2.06-.94 2.06-2.06.94z\"/><path d=\"M17.41 7.96l-1.37-1.37c-.4-.4-.92-.59-1.43-.59-.52 0-1.04.2-1.43.59L10.3 9.45l-7.72 7.72c-.78.78-.78 2.05 0 2.83L4 21.41c.39.39.9.59 1.41.59.51 0 1.02-.2 1.41-.59l7.78-7.78 2.81-2.81c.8-.78.8-2.07 0-2.86zM5.41 20L4 18.59l7.72-7.72 1.47 1.35L5.41 20z\"/>\n",
              "  </svg>\n",
              "      </button>\n",
              "      \n",
              "  <style>\n",
              "    .colab-df-container {\n",
              "      display:flex;\n",
              "      flex-wrap:wrap;\n",
              "      gap: 12px;\n",
              "    }\n",
              "\n",
              "    .colab-df-convert {\n",
              "      background-color: #E8F0FE;\n",
              "      border: none;\n",
              "      border-radius: 50%;\n",
              "      cursor: pointer;\n",
              "      display: none;\n",
              "      fill: #1967D2;\n",
              "      height: 32px;\n",
              "      padding: 0 0 0 0;\n",
              "      width: 32px;\n",
              "    }\n",
              "\n",
              "    .colab-df-convert:hover {\n",
              "      background-color: #E2EBFA;\n",
              "      box-shadow: 0px 1px 2px rgba(60, 64, 67, 0.3), 0px 1px 3px 1px rgba(60, 64, 67, 0.15);\n",
              "      fill: #174EA6;\n",
              "    }\n",
              "\n",
              "    [theme=dark] .colab-df-convert {\n",
              "      background-color: #3B4455;\n",
              "      fill: #D2E3FC;\n",
              "    }\n",
              "\n",
              "    [theme=dark] .colab-df-convert:hover {\n",
              "      background-color: #434B5C;\n",
              "      box-shadow: 0px 1px 3px 1px rgba(0, 0, 0, 0.15);\n",
              "      filter: drop-shadow(0px 1px 2px rgba(0, 0, 0, 0.3));\n",
              "      fill: #FFFFFF;\n",
              "    }\n",
              "  </style>\n",
              "\n",
              "      <script>\n",
              "        const buttonEl =\n",
              "          document.querySelector('#df-d7d5f36e-95b4-416f-afc0-bcf02e88cffd button.colab-df-convert');\n",
              "        buttonEl.style.display =\n",
              "          google.colab.kernel.accessAllowed ? 'block' : 'none';\n",
              "\n",
              "        async function convertToInteractive(key) {\n",
              "          const element = document.querySelector('#df-d7d5f36e-95b4-416f-afc0-bcf02e88cffd');\n",
              "          const dataTable =\n",
              "            await google.colab.kernel.invokeFunction('convertToInteractive',\n",
              "                                                     [key], {});\n",
              "          if (!dataTable) return;\n",
              "\n",
              "          const docLinkHtml = 'Like what you see? Visit the ' +\n",
              "            '<a target=\"_blank\" href=https://colab.research.google.com/notebooks/data_table.ipynb>data table notebook</a>'\n",
              "            + ' to learn more about interactive tables.';\n",
              "          element.innerHTML = '';\n",
              "          dataTable['output_type'] = 'display_data';\n",
              "          await google.colab.output.renderOutput(dataTable, element);\n",
              "          const docLink = document.createElement('div');\n",
              "          docLink.innerHTML = docLinkHtml;\n",
              "          element.appendChild(docLink);\n",
              "        }\n",
              "      </script>\n",
              "    </div>\n",
              "  </div>\n",
              "  "
            ]
          },
          "metadata": {},
          "execution_count": 5
        }
      ],
      "source": [
        "ad.head()\n"
      ]
    },
    {
      "cell_type": "markdown",
      "metadata": {
        "id": "65P6nIwjT4_d"
      },
      "source": [
        "# What is the shape of the dataframe?\n",
        "# What are the total number of assembly constituencies in Uttar Pradesh? "
      ]
    },
    {
      "cell_type": "code",
      "execution_count": 6,
      "metadata": {
        "colab": {
          "base_uri": "https://localhost:8080/"
        },
        "id": "mC5-IaWwT4_e",
        "outputId": "fe111394-ec11-44fd-f81e-6d2e3564e989"
      },
      "outputs": [
        {
          "output_type": "stream",
          "name": "stdout",
          "text": [
            "(403, 11)\n"
          ]
        },
        {
          "output_type": "execute_result",
          "data": {
            "text/plain": [
              "403"
            ]
          },
          "metadata": {},
          "execution_count": 6
        }
      ],
      "source": [
        "print(ad.shape)\n",
        "\n",
        "ad['AC Name'].count()  # Total Number of assembly constituencies in U.P."
      ]
    },
    {
      "cell_type": "code",
      "execution_count": 11,
      "metadata": {
        "id": "Nc1gv1w5T4_e",
        "colab": {
          "base_uri": "https://localhost:8080/"
        },
        "outputId": "416fbb61-7cbc-436e-c5ce-1656f1cedc78"
      },
      "outputs": [
        {
          "output_type": "stream",
          "name": "stdout",
          "text": [
            "The shape of the dataset is :- 40311\n",
            "The total number of assembly constituencies in U.P. is :- 403\n"
          ]
        }
      ],
      "source": [
        "print(\"The shape of the dataset is :- \"+ str(ad.shape[0])+str(ad.shape[1]))\n",
        "print(\"The total number of assembly constituencies in U.P. is :- \"+str(ad['AC Name'].count()))\n"
      ]
    },
    {
      "cell_type": "markdown",
      "metadata": {
        "id": "era5F1CKT4_f"
      },
      "source": [
        "# Select a district of your choice   \n",
        "# In the Following sections we will do data analsis on that district ( Be mindful of spellings)"
      ]
    },
    {
      "cell_type": "code",
      "execution_count": 12,
      "metadata": {
        "colab": {
          "base_uri": "https://localhost:8080/"
        },
        "id": "eCNC2-UTT4_g",
        "outputId": "041d83df-9efc-49f9-db36-82bd09b7de75"
      },
      "outputs": [
        {
          "output_type": "execute_result",
          "data": {
            "text/plain": [
              "Allahabad              12\n",
              "Azamgarh               10\n",
              "Kanpur Nagar           10\n",
              "Lucknow                 9\n",
              "Muzaffarnagar           9\n",
              "Gorakhpur               9\n",
              "Agra                    9\n",
              "Sitapur                 9\n",
              "Moradabad               9\n",
              "Jaunpur                 9\n",
              "Bareilly                9\n",
              "Kheri                   8\n",
              "Sultanpur               8\n",
              "Ghaziabad               8\n",
              "Bijnor                  8\n",
              "Varanasi                8\n",
              "Hardoi                  8\n",
              "Gonda                   7\n",
              "Kushinagar              7\n",
              "Ghazipur                7\n",
              "Saharanpur              7\n",
              "Deoria                  7\n",
              "Meerut                  7\n",
              "Ballia                  7\n",
              "Bahraich                7\n",
              "Barabanki               7\n",
              "Budaun                  7\n",
              "Rae Bareli              7\n",
              "Bulandshahar            7\n",
              "Aligarh                 7\n",
              "Pratapgarh              7\n",
              "Etah                    7\n",
              "Fatehpur                6\n",
              "Shahjahanpur            6\n",
              "Unnao                   6\n",
              "Rampur                  5\n",
              "Basti                   5\n",
              "Maharajganj             5\n",
              "Firozabad               5\n",
              "Siddharthnagar          5\n",
              "Mathura                 5\n",
              "Ambedkar Nagar          5\n",
              "Mirzapur                5\n",
              "Sonbhadra               4\n",
              "Kanpur Dehat            4\n",
              "Farrukhabad             4\n",
              "Mau                     4\n",
              "Jyotiba Phule Nagar     4\n",
              "Chandauli               4\n",
              "Jhansi                  4\n",
              "Mainpuri                4\n",
              "Balrampur               4\n",
              "Banda                   4\n",
              "Faizabad                4\n",
              "Pilibhit                4\n",
              "Auraiya                 3\n",
              "Kaushambi               3\n",
              "Jalaun                  3\n",
              "Mahamaya Nagar          3\n",
              "Baghpat                 3\n",
              "Etawah                  3\n",
              "S. Kabir Nagar          3\n",
              "Gautam Buddha Nagar     3\n",
              "S.R.Nagar(Bhadohi)      3\n",
              "Kannauj                 3\n",
              "Shrawasti               2\n",
              "Hamirpur                2\n",
              "Chitrakoot              2\n",
              "Lalitpur                2\n",
              "Mahoba                  2\n",
              "Name: District, dtype: int64"
            ]
          },
          "metadata": {},
          "execution_count": 12
        }
      ],
      "source": [
        "ad['District'].value_counts() # Select Your District # Pay attention to spelling !!!"
      ]
    },
    {
      "cell_type": "code",
      "execution_count": 13,
      "metadata": {
        "id": "LrxjChTQT4_g"
      },
      "outputs": [],
      "source": [
        "a= 'Lucknow'  # Store your district name in a varable # It is optional you may find it easier to work with a variable than whole name of district"
      ]
    },
    {
      "cell_type": "markdown",
      "metadata": {
        "id": "CJRVmrg1T4_h"
      },
      "source": [
        "# Answer the following questions :-\n",
        "# 1.) What is the total number of constituencies in your district?\n",
        "# 2.) What is the total number of voters in your districts?\n",
        "# 3.) What is the total number of votes polled in your districts ?\n",
        "# 4.) What is the highest polling percentage of any constituency in your   district?\n",
        "\n"
      ]
    },
    {
      "cell_type": "code",
      "execution_count": null,
      "metadata": {
        "id": "T7qFfY1wT4_i"
      },
      "outputs": [],
      "source": [
        "\n",
        "# Hint :- ad[ad['______']==_]  Fill the blank  to print all rows containg your district "
      ]
    },
    {
      "cell_type": "code",
      "source": [
        "k=ad[ad['District']==a]"
      ],
      "metadata": {
        "id": "_8bnWq9s17Bp"
      },
      "execution_count": 14,
      "outputs": []
    },
    {
      "cell_type": "code",
      "execution_count": 15,
      "metadata": {
        "colab": {
          "base_uri": "https://localhost:8080/",
          "height": 601
        },
        "id": "IJ_DYerdT4_j",
        "outputId": "a7dfa9d5-be71-47f1-d1cd-e2d739b1a961"
      },
      "outputs": [
        {
          "output_type": "execute_result",
          "data": {
            "text/plain": [
              "              AC Name  AC No. Type District           Winning Candidate  \\\n",
              "0      Lucknow Cantt.     175  GEN  Lucknow             Dr. Reeta Joshi   \n",
              "40   Bakshi Kaa Talab     169  GEN  Lucknow             Avinash Trivedi   \n",
              "224   Lucknow Central     174  GEN  Lucknow              Brijesh Pathak   \n",
              "225      Lucknow East     173  GEN  Lucknow  Ashutosh Tandan \"gopal Ji\"   \n",
              "226     Lucknow North     172  GEN  Lucknow              Dr.Neeraj Bora   \n",
              "227      Lucknow West     171  GEN  Lucknow     Suresh Kumar Shrivastav   \n",
              "241         Malihabad     168   SC  Lucknow                    Jai Devi   \n",
              "271      Mohanlalganj     176   SC  Lucknow       Ambrish Singh Pushkar   \n",
              "351    Sarojini Nagar     170  GEN  Lucknow                 Swati Singh   \n",
              "\n",
              "                     Party  Total Electors  Total Votes   Poll%  Margin  \\\n",
              "0    Bharatiya Janta Party          368291       186283  50.6 %   33796   \n",
              "40   Bharatiya Janta Party          395859       262491  66.3 %   17584   \n",
              "224  Bharatiya Janta Party          366950       194201  52.9 %    5094   \n",
              "225  Bharatiya Janta Party          422779       226368  53.5 %   79230   \n",
              "226  Bharatiya Janta Party          403281       225077  55.8 %   27276   \n",
              "227  Bharatiya Janta Party          387847       216919  55.9 %   13072   \n",
              "241  Bharatiya Janta Party          340473       226032  66.4 %   22668   \n",
              "271        Samajwadi Party          341161       219099  64.2 %     530   \n",
              "351  Bharatiya Janta Party          498557       288921  58.0 %   34179   \n",
              "\n",
              "    Margin %  \n",
              "0      18.1%  \n",
              "40      6.7%  \n",
              "224     2.6%  \n",
              "225    35.0%  \n",
              "226    12.1%  \n",
              "227     6.0%  \n",
              "241    10.0%  \n",
              "271     0.2%  \n",
              "351    11.8%  "
            ],
            "text/html": [
              "\n",
              "  <div id=\"df-fbb28ef7-d813-4d90-864f-9cecd9a49774\">\n",
              "    <div class=\"colab-df-container\">\n",
              "      <div>\n",
              "<style scoped>\n",
              "    .dataframe tbody tr th:only-of-type {\n",
              "        vertical-align: middle;\n",
              "    }\n",
              "\n",
              "    .dataframe tbody tr th {\n",
              "        vertical-align: top;\n",
              "    }\n",
              "\n",
              "    .dataframe thead th {\n",
              "        text-align: right;\n",
              "    }\n",
              "</style>\n",
              "<table border=\"1\" class=\"dataframe\">\n",
              "  <thead>\n",
              "    <tr style=\"text-align: right;\">\n",
              "      <th></th>\n",
              "      <th>AC Name</th>\n",
              "      <th>AC No.</th>\n",
              "      <th>Type</th>\n",
              "      <th>District</th>\n",
              "      <th>Winning Candidate</th>\n",
              "      <th>Party</th>\n",
              "      <th>Total Electors</th>\n",
              "      <th>Total Votes</th>\n",
              "      <th>Poll%</th>\n",
              "      <th>Margin</th>\n",
              "      <th>Margin %</th>\n",
              "    </tr>\n",
              "  </thead>\n",
              "  <tbody>\n",
              "    <tr>\n",
              "      <th>0</th>\n",
              "      <td>Lucknow Cantt.</td>\n",
              "      <td>175</td>\n",
              "      <td>GEN</td>\n",
              "      <td>Lucknow</td>\n",
              "      <td>Dr. Reeta Joshi</td>\n",
              "      <td>Bharatiya Janta Party</td>\n",
              "      <td>368291</td>\n",
              "      <td>186283</td>\n",
              "      <td>50.6 %</td>\n",
              "      <td>33796</td>\n",
              "      <td>18.1%</td>\n",
              "    </tr>\n",
              "    <tr>\n",
              "      <th>40</th>\n",
              "      <td>Bakshi Kaa Talab</td>\n",
              "      <td>169</td>\n",
              "      <td>GEN</td>\n",
              "      <td>Lucknow</td>\n",
              "      <td>Avinash Trivedi</td>\n",
              "      <td>Bharatiya Janta Party</td>\n",
              "      <td>395859</td>\n",
              "      <td>262491</td>\n",
              "      <td>66.3 %</td>\n",
              "      <td>17584</td>\n",
              "      <td>6.7%</td>\n",
              "    </tr>\n",
              "    <tr>\n",
              "      <th>224</th>\n",
              "      <td>Lucknow Central</td>\n",
              "      <td>174</td>\n",
              "      <td>GEN</td>\n",
              "      <td>Lucknow</td>\n",
              "      <td>Brijesh Pathak</td>\n",
              "      <td>Bharatiya Janta Party</td>\n",
              "      <td>366950</td>\n",
              "      <td>194201</td>\n",
              "      <td>52.9 %</td>\n",
              "      <td>5094</td>\n",
              "      <td>2.6%</td>\n",
              "    </tr>\n",
              "    <tr>\n",
              "      <th>225</th>\n",
              "      <td>Lucknow East</td>\n",
              "      <td>173</td>\n",
              "      <td>GEN</td>\n",
              "      <td>Lucknow</td>\n",
              "      <td>Ashutosh Tandan \"gopal Ji\"</td>\n",
              "      <td>Bharatiya Janta Party</td>\n",
              "      <td>422779</td>\n",
              "      <td>226368</td>\n",
              "      <td>53.5 %</td>\n",
              "      <td>79230</td>\n",
              "      <td>35.0%</td>\n",
              "    </tr>\n",
              "    <tr>\n",
              "      <th>226</th>\n",
              "      <td>Lucknow North</td>\n",
              "      <td>172</td>\n",
              "      <td>GEN</td>\n",
              "      <td>Lucknow</td>\n",
              "      <td>Dr.Neeraj Bora</td>\n",
              "      <td>Bharatiya Janta Party</td>\n",
              "      <td>403281</td>\n",
              "      <td>225077</td>\n",
              "      <td>55.8 %</td>\n",
              "      <td>27276</td>\n",
              "      <td>12.1%</td>\n",
              "    </tr>\n",
              "    <tr>\n",
              "      <th>227</th>\n",
              "      <td>Lucknow West</td>\n",
              "      <td>171</td>\n",
              "      <td>GEN</td>\n",
              "      <td>Lucknow</td>\n",
              "      <td>Suresh Kumar Shrivastav</td>\n",
              "      <td>Bharatiya Janta Party</td>\n",
              "      <td>387847</td>\n",
              "      <td>216919</td>\n",
              "      <td>55.9 %</td>\n",
              "      <td>13072</td>\n",
              "      <td>6.0%</td>\n",
              "    </tr>\n",
              "    <tr>\n",
              "      <th>241</th>\n",
              "      <td>Malihabad</td>\n",
              "      <td>168</td>\n",
              "      <td>SC</td>\n",
              "      <td>Lucknow</td>\n",
              "      <td>Jai Devi</td>\n",
              "      <td>Bharatiya Janta Party</td>\n",
              "      <td>340473</td>\n",
              "      <td>226032</td>\n",
              "      <td>66.4 %</td>\n",
              "      <td>22668</td>\n",
              "      <td>10.0%</td>\n",
              "    </tr>\n",
              "    <tr>\n",
              "      <th>271</th>\n",
              "      <td>Mohanlalganj</td>\n",
              "      <td>176</td>\n",
              "      <td>SC</td>\n",
              "      <td>Lucknow</td>\n",
              "      <td>Ambrish Singh Pushkar</td>\n",
              "      <td>Samajwadi Party</td>\n",
              "      <td>341161</td>\n",
              "      <td>219099</td>\n",
              "      <td>64.2 %</td>\n",
              "      <td>530</td>\n",
              "      <td>0.2%</td>\n",
              "    </tr>\n",
              "    <tr>\n",
              "      <th>351</th>\n",
              "      <td>Sarojini Nagar</td>\n",
              "      <td>170</td>\n",
              "      <td>GEN</td>\n",
              "      <td>Lucknow</td>\n",
              "      <td>Swati Singh</td>\n",
              "      <td>Bharatiya Janta Party</td>\n",
              "      <td>498557</td>\n",
              "      <td>288921</td>\n",
              "      <td>58.0 %</td>\n",
              "      <td>34179</td>\n",
              "      <td>11.8%</td>\n",
              "    </tr>\n",
              "  </tbody>\n",
              "</table>\n",
              "</div>\n",
              "      <button class=\"colab-df-convert\" onclick=\"convertToInteractive('df-fbb28ef7-d813-4d90-864f-9cecd9a49774')\"\n",
              "              title=\"Convert this dataframe to an interactive table.\"\n",
              "              style=\"display:none;\">\n",
              "        \n",
              "  <svg xmlns=\"http://www.w3.org/2000/svg\" height=\"24px\"viewBox=\"0 0 24 24\"\n",
              "       width=\"24px\">\n",
              "    <path d=\"M0 0h24v24H0V0z\" fill=\"none\"/>\n",
              "    <path d=\"M18.56 5.44l.94 2.06.94-2.06 2.06-.94-2.06-.94-.94-2.06-.94 2.06-2.06.94zm-11 1L8.5 8.5l.94-2.06 2.06-.94-2.06-.94L8.5 2.5l-.94 2.06-2.06.94zm10 10l.94 2.06.94-2.06 2.06-.94-2.06-.94-.94-2.06-.94 2.06-2.06.94z\"/><path d=\"M17.41 7.96l-1.37-1.37c-.4-.4-.92-.59-1.43-.59-.52 0-1.04.2-1.43.59L10.3 9.45l-7.72 7.72c-.78.78-.78 2.05 0 2.83L4 21.41c.39.39.9.59 1.41.59.51 0 1.02-.2 1.41-.59l7.78-7.78 2.81-2.81c.8-.78.8-2.07 0-2.86zM5.41 20L4 18.59l7.72-7.72 1.47 1.35L5.41 20z\"/>\n",
              "  </svg>\n",
              "      </button>\n",
              "      \n",
              "  <style>\n",
              "    .colab-df-container {\n",
              "      display:flex;\n",
              "      flex-wrap:wrap;\n",
              "      gap: 12px;\n",
              "    }\n",
              "\n",
              "    .colab-df-convert {\n",
              "      background-color: #E8F0FE;\n",
              "      border: none;\n",
              "      border-radius: 50%;\n",
              "      cursor: pointer;\n",
              "      display: none;\n",
              "      fill: #1967D2;\n",
              "      height: 32px;\n",
              "      padding: 0 0 0 0;\n",
              "      width: 32px;\n",
              "    }\n",
              "\n",
              "    .colab-df-convert:hover {\n",
              "      background-color: #E2EBFA;\n",
              "      box-shadow: 0px 1px 2px rgba(60, 64, 67, 0.3), 0px 1px 3px 1px rgba(60, 64, 67, 0.15);\n",
              "      fill: #174EA6;\n",
              "    }\n",
              "\n",
              "    [theme=dark] .colab-df-convert {\n",
              "      background-color: #3B4455;\n",
              "      fill: #D2E3FC;\n",
              "    }\n",
              "\n",
              "    [theme=dark] .colab-df-convert:hover {\n",
              "      background-color: #434B5C;\n",
              "      box-shadow: 0px 1px 3px 1px rgba(0, 0, 0, 0.15);\n",
              "      filter: drop-shadow(0px 1px 2px rgba(0, 0, 0, 0.3));\n",
              "      fill: #FFFFFF;\n",
              "    }\n",
              "  </style>\n",
              "\n",
              "      <script>\n",
              "        const buttonEl =\n",
              "          document.querySelector('#df-fbb28ef7-d813-4d90-864f-9cecd9a49774 button.colab-df-convert');\n",
              "        buttonEl.style.display =\n",
              "          google.colab.kernel.accessAllowed ? 'block' : 'none';\n",
              "\n",
              "        async function convertToInteractive(key) {\n",
              "          const element = document.querySelector('#df-fbb28ef7-d813-4d90-864f-9cecd9a49774');\n",
              "          const dataTable =\n",
              "            await google.colab.kernel.invokeFunction('convertToInteractive',\n",
              "                                                     [key], {});\n",
              "          if (!dataTable) return;\n",
              "\n",
              "          const docLinkHtml = 'Like what you see? Visit the ' +\n",
              "            '<a target=\"_blank\" href=https://colab.research.google.com/notebooks/data_table.ipynb>data table notebook</a>'\n",
              "            + ' to learn more about interactive tables.';\n",
              "          element.innerHTML = '';\n",
              "          dataTable['output_type'] = 'display_data';\n",
              "          await google.colab.output.renderOutput(dataTable, element);\n",
              "          const docLink = document.createElement('div');\n",
              "          docLink.innerHTML = docLinkHtml;\n",
              "          element.appendChild(docLink);\n",
              "        }\n",
              "      </script>\n",
              "    </div>\n",
              "  </div>\n",
              "  "
            ]
          },
          "metadata": {},
          "execution_count": 15
        }
      ],
      "source": [
        "k"
      ]
    },
    {
      "cell_type": "code",
      "source": [
        "print(\"The total number of constituencies in my district is \" + str(k['AC Name'].count()))"
      ],
      "metadata": {
        "colab": {
          "base_uri": "https://localhost:8080/"
        },
        "id": "Oye14r2Fy8mU",
        "outputId": "fff005e9-a01d-4317-e4eb-f21a1e6262a0"
      },
      "execution_count": 160,
      "outputs": [
        {
          "output_type": "stream",
          "name": "stdout",
          "text": [
            "The total number of constituencies in my district is 9\n"
          ]
        }
      ]
    },
    {
      "cell_type": "code",
      "execution_count": 162,
      "metadata": {
        "colab": {
          "base_uri": "https://localhost:8080/"
        },
        "id": "qb85pXqgT4_j",
        "outputId": "ce2ba8c4-3892-49bc-c142-f6180fd6a85c"
      },
      "outputs": [
        {
          "output_type": "stream",
          "name": "stdout",
          "text": [
            "The total number of voters in my district is 3525198\n"
          ]
        }
      ],
      "source": [
        "print(\"The total number of voters in my district is \" + str(k['Total Electors'].sum()))"
      ]
    },
    {
      "cell_type": "code",
      "execution_count": 17,
      "metadata": {
        "colab": {
          "base_uri": "https://localhost:8080/",
          "height": 601
        },
        "id": "RTLmSXB6T4_j",
        "outputId": "a83357c3-facf-4fd0-a5f5-82e2cbb5fb80"
      },
      "outputs": [
        {
          "output_type": "execute_result",
          "data": {
            "text/plain": [
              "              AC Name  AC No. Type District           Winning Candidate  \\\n",
              "0      Lucknow Cantt.     175  GEN  Lucknow             Dr. Reeta Joshi   \n",
              "40   Bakshi Kaa Talab     169  GEN  Lucknow             Avinash Trivedi   \n",
              "224   Lucknow Central     174  GEN  Lucknow              Brijesh Pathak   \n",
              "225      Lucknow East     173  GEN  Lucknow  Ashutosh Tandan \"gopal Ji\"   \n",
              "226     Lucknow North     172  GEN  Lucknow              Dr.Neeraj Bora   \n",
              "227      Lucknow West     171  GEN  Lucknow     Suresh Kumar Shrivastav   \n",
              "241         Malihabad     168   SC  Lucknow                    Jai Devi   \n",
              "271      Mohanlalganj     176   SC  Lucknow       Ambrish Singh Pushkar   \n",
              "351    Sarojini Nagar     170  GEN  Lucknow                 Swati Singh   \n",
              "\n",
              "                     Party  Total Electors  Total Votes   Poll%  Margin  \\\n",
              "0    Bharatiya Janta Party          368291       186283  50.6 %   33796   \n",
              "40   Bharatiya Janta Party          395859       262491  66.3 %   17584   \n",
              "224  Bharatiya Janta Party          366950       194201  52.9 %    5094   \n",
              "225  Bharatiya Janta Party          422779       226368  53.5 %   79230   \n",
              "226  Bharatiya Janta Party          403281       225077  55.8 %   27276   \n",
              "227  Bharatiya Janta Party          387847       216919  55.9 %   13072   \n",
              "241  Bharatiya Janta Party          340473       226032  66.4 %   22668   \n",
              "271        Samajwadi Party          341161       219099  64.2 %     530   \n",
              "351  Bharatiya Janta Party          498557       288921  58.0 %   34179   \n",
              "\n",
              "    Margin %  \n",
              "0      18.1%  \n",
              "40      6.7%  \n",
              "224     2.6%  \n",
              "225    35.0%  \n",
              "226    12.1%  \n",
              "227     6.0%  \n",
              "241    10.0%  \n",
              "271     0.2%  \n",
              "351    11.8%  "
            ],
            "text/html": [
              "\n",
              "  <div id=\"df-6df77cfd-20f7-4732-baf9-9a9088a9d6df\">\n",
              "    <div class=\"colab-df-container\">\n",
              "      <div>\n",
              "<style scoped>\n",
              "    .dataframe tbody tr th:only-of-type {\n",
              "        vertical-align: middle;\n",
              "    }\n",
              "\n",
              "    .dataframe tbody tr th {\n",
              "        vertical-align: top;\n",
              "    }\n",
              "\n",
              "    .dataframe thead th {\n",
              "        text-align: right;\n",
              "    }\n",
              "</style>\n",
              "<table border=\"1\" class=\"dataframe\">\n",
              "  <thead>\n",
              "    <tr style=\"text-align: right;\">\n",
              "      <th></th>\n",
              "      <th>AC Name</th>\n",
              "      <th>AC No.</th>\n",
              "      <th>Type</th>\n",
              "      <th>District</th>\n",
              "      <th>Winning Candidate</th>\n",
              "      <th>Party</th>\n",
              "      <th>Total Electors</th>\n",
              "      <th>Total Votes</th>\n",
              "      <th>Poll%</th>\n",
              "      <th>Margin</th>\n",
              "      <th>Margin %</th>\n",
              "    </tr>\n",
              "  </thead>\n",
              "  <tbody>\n",
              "    <tr>\n",
              "      <th>0</th>\n",
              "      <td>Lucknow Cantt.</td>\n",
              "      <td>175</td>\n",
              "      <td>GEN</td>\n",
              "      <td>Lucknow</td>\n",
              "      <td>Dr. Reeta Joshi</td>\n",
              "      <td>Bharatiya Janta Party</td>\n",
              "      <td>368291</td>\n",
              "      <td>186283</td>\n",
              "      <td>50.6 %</td>\n",
              "      <td>33796</td>\n",
              "      <td>18.1%</td>\n",
              "    </tr>\n",
              "    <tr>\n",
              "      <th>40</th>\n",
              "      <td>Bakshi Kaa Talab</td>\n",
              "      <td>169</td>\n",
              "      <td>GEN</td>\n",
              "      <td>Lucknow</td>\n",
              "      <td>Avinash Trivedi</td>\n",
              "      <td>Bharatiya Janta Party</td>\n",
              "      <td>395859</td>\n",
              "      <td>262491</td>\n",
              "      <td>66.3 %</td>\n",
              "      <td>17584</td>\n",
              "      <td>6.7%</td>\n",
              "    </tr>\n",
              "    <tr>\n",
              "      <th>224</th>\n",
              "      <td>Lucknow Central</td>\n",
              "      <td>174</td>\n",
              "      <td>GEN</td>\n",
              "      <td>Lucknow</td>\n",
              "      <td>Brijesh Pathak</td>\n",
              "      <td>Bharatiya Janta Party</td>\n",
              "      <td>366950</td>\n",
              "      <td>194201</td>\n",
              "      <td>52.9 %</td>\n",
              "      <td>5094</td>\n",
              "      <td>2.6%</td>\n",
              "    </tr>\n",
              "    <tr>\n",
              "      <th>225</th>\n",
              "      <td>Lucknow East</td>\n",
              "      <td>173</td>\n",
              "      <td>GEN</td>\n",
              "      <td>Lucknow</td>\n",
              "      <td>Ashutosh Tandan \"gopal Ji\"</td>\n",
              "      <td>Bharatiya Janta Party</td>\n",
              "      <td>422779</td>\n",
              "      <td>226368</td>\n",
              "      <td>53.5 %</td>\n",
              "      <td>79230</td>\n",
              "      <td>35.0%</td>\n",
              "    </tr>\n",
              "    <tr>\n",
              "      <th>226</th>\n",
              "      <td>Lucknow North</td>\n",
              "      <td>172</td>\n",
              "      <td>GEN</td>\n",
              "      <td>Lucknow</td>\n",
              "      <td>Dr.Neeraj Bora</td>\n",
              "      <td>Bharatiya Janta Party</td>\n",
              "      <td>403281</td>\n",
              "      <td>225077</td>\n",
              "      <td>55.8 %</td>\n",
              "      <td>27276</td>\n",
              "      <td>12.1%</td>\n",
              "    </tr>\n",
              "    <tr>\n",
              "      <th>227</th>\n",
              "      <td>Lucknow West</td>\n",
              "      <td>171</td>\n",
              "      <td>GEN</td>\n",
              "      <td>Lucknow</td>\n",
              "      <td>Suresh Kumar Shrivastav</td>\n",
              "      <td>Bharatiya Janta Party</td>\n",
              "      <td>387847</td>\n",
              "      <td>216919</td>\n",
              "      <td>55.9 %</td>\n",
              "      <td>13072</td>\n",
              "      <td>6.0%</td>\n",
              "    </tr>\n",
              "    <tr>\n",
              "      <th>241</th>\n",
              "      <td>Malihabad</td>\n",
              "      <td>168</td>\n",
              "      <td>SC</td>\n",
              "      <td>Lucknow</td>\n",
              "      <td>Jai Devi</td>\n",
              "      <td>Bharatiya Janta Party</td>\n",
              "      <td>340473</td>\n",
              "      <td>226032</td>\n",
              "      <td>66.4 %</td>\n",
              "      <td>22668</td>\n",
              "      <td>10.0%</td>\n",
              "    </tr>\n",
              "    <tr>\n",
              "      <th>271</th>\n",
              "      <td>Mohanlalganj</td>\n",
              "      <td>176</td>\n",
              "      <td>SC</td>\n",
              "      <td>Lucknow</td>\n",
              "      <td>Ambrish Singh Pushkar</td>\n",
              "      <td>Samajwadi Party</td>\n",
              "      <td>341161</td>\n",
              "      <td>219099</td>\n",
              "      <td>64.2 %</td>\n",
              "      <td>530</td>\n",
              "      <td>0.2%</td>\n",
              "    </tr>\n",
              "    <tr>\n",
              "      <th>351</th>\n",
              "      <td>Sarojini Nagar</td>\n",
              "      <td>170</td>\n",
              "      <td>GEN</td>\n",
              "      <td>Lucknow</td>\n",
              "      <td>Swati Singh</td>\n",
              "      <td>Bharatiya Janta Party</td>\n",
              "      <td>498557</td>\n",
              "      <td>288921</td>\n",
              "      <td>58.0 %</td>\n",
              "      <td>34179</td>\n",
              "      <td>11.8%</td>\n",
              "    </tr>\n",
              "  </tbody>\n",
              "</table>\n",
              "</div>\n",
              "      <button class=\"colab-df-convert\" onclick=\"convertToInteractive('df-6df77cfd-20f7-4732-baf9-9a9088a9d6df')\"\n",
              "              title=\"Convert this dataframe to an interactive table.\"\n",
              "              style=\"display:none;\">\n",
              "        \n",
              "  <svg xmlns=\"http://www.w3.org/2000/svg\" height=\"24px\"viewBox=\"0 0 24 24\"\n",
              "       width=\"24px\">\n",
              "    <path d=\"M0 0h24v24H0V0z\" fill=\"none\"/>\n",
              "    <path d=\"M18.56 5.44l.94 2.06.94-2.06 2.06-.94-2.06-.94-.94-2.06-.94 2.06-2.06.94zm-11 1L8.5 8.5l.94-2.06 2.06-.94-2.06-.94L8.5 2.5l-.94 2.06-2.06.94zm10 10l.94 2.06.94-2.06 2.06-.94-2.06-.94-.94-2.06-.94 2.06-2.06.94z\"/><path d=\"M17.41 7.96l-1.37-1.37c-.4-.4-.92-.59-1.43-.59-.52 0-1.04.2-1.43.59L10.3 9.45l-7.72 7.72c-.78.78-.78 2.05 0 2.83L4 21.41c.39.39.9.59 1.41.59.51 0 1.02-.2 1.41-.59l7.78-7.78 2.81-2.81c.8-.78.8-2.07 0-2.86zM5.41 20L4 18.59l7.72-7.72 1.47 1.35L5.41 20z\"/>\n",
              "  </svg>\n",
              "      </button>\n",
              "      \n",
              "  <style>\n",
              "    .colab-df-container {\n",
              "      display:flex;\n",
              "      flex-wrap:wrap;\n",
              "      gap: 12px;\n",
              "    }\n",
              "\n",
              "    .colab-df-convert {\n",
              "      background-color: #E8F0FE;\n",
              "      border: none;\n",
              "      border-radius: 50%;\n",
              "      cursor: pointer;\n",
              "      display: none;\n",
              "      fill: #1967D2;\n",
              "      height: 32px;\n",
              "      padding: 0 0 0 0;\n",
              "      width: 32px;\n",
              "    }\n",
              "\n",
              "    .colab-df-convert:hover {\n",
              "      background-color: #E2EBFA;\n",
              "      box-shadow: 0px 1px 2px rgba(60, 64, 67, 0.3), 0px 1px 3px 1px rgba(60, 64, 67, 0.15);\n",
              "      fill: #174EA6;\n",
              "    }\n",
              "\n",
              "    [theme=dark] .colab-df-convert {\n",
              "      background-color: #3B4455;\n",
              "      fill: #D2E3FC;\n",
              "    }\n",
              "\n",
              "    [theme=dark] .colab-df-convert:hover {\n",
              "      background-color: #434B5C;\n",
              "      box-shadow: 0px 1px 3px 1px rgba(0, 0, 0, 0.15);\n",
              "      filter: drop-shadow(0px 1px 2px rgba(0, 0, 0, 0.3));\n",
              "      fill: #FFFFFF;\n",
              "    }\n",
              "  </style>\n",
              "\n",
              "      <script>\n",
              "        const buttonEl =\n",
              "          document.querySelector('#df-6df77cfd-20f7-4732-baf9-9a9088a9d6df button.colab-df-convert');\n",
              "        buttonEl.style.display =\n",
              "          google.colab.kernel.accessAllowed ? 'block' : 'none';\n",
              "\n",
              "        async function convertToInteractive(key) {\n",
              "          const element = document.querySelector('#df-6df77cfd-20f7-4732-baf9-9a9088a9d6df');\n",
              "          const dataTable =\n",
              "            await google.colab.kernel.invokeFunction('convertToInteractive',\n",
              "                                                     [key], {});\n",
              "          if (!dataTable) return;\n",
              "\n",
              "          const docLinkHtml = 'Like what you see? Visit the ' +\n",
              "            '<a target=\"_blank\" href=https://colab.research.google.com/notebooks/data_table.ipynb>data table notebook</a>'\n",
              "            + ' to learn more about interactive tables.';\n",
              "          element.innerHTML = '';\n",
              "          dataTable['output_type'] = 'display_data';\n",
              "          await google.colab.output.renderOutput(dataTable, element);\n",
              "          const docLink = document.createElement('div');\n",
              "          docLink.innerHTML = docLinkHtml;\n",
              "          element.appendChild(docLink);\n",
              "        }\n",
              "      </script>\n",
              "    </div>\n",
              "  </div>\n",
              "  "
            ]
          },
          "metadata": {},
          "execution_count": 17
        }
      ],
      "source": [
        "k"
      ]
    },
    {
      "cell_type": "code",
      "source": [
        "print(\"The total number of voters in my district is \" + str(k['Total Votes'].sum()))"
      ],
      "metadata": {
        "colab": {
          "base_uri": "https://localhost:8080/"
        },
        "id": "djav-NDRzfri",
        "outputId": "3cb10ba6-7429-49b1-a982-fefb83b8524d"
      },
      "execution_count": 164,
      "outputs": [
        {
          "output_type": "stream",
          "name": "stdout",
          "text": [
            "The total number of voters in my district is 2045391\n"
          ]
        }
      ]
    },
    {
      "cell_type": "code",
      "execution_count": 165,
      "metadata": {
        "id": "iFMn-5poT4_j",
        "colab": {
          "base_uri": "https://localhost:8080/",
          "height": 601
        },
        "outputId": "2554ac45-49dd-4864-f091-c68083ac39b8"
      },
      "outputs": [
        {
          "output_type": "execute_result",
          "data": {
            "text/plain": [
              "   index           AC Name  AC No. Type District           Winning Candidate  \\\n",
              "0    241         Malihabad     168   SC  Lucknow                    Jai Devi   \n",
              "1     40  Bakshi Kaa Talab     169  GEN  Lucknow             Avinash Trivedi   \n",
              "2    271      Mohanlalganj     176   SC  Lucknow       Ambrish Singh Pushkar   \n",
              "3    351    Sarojini Nagar     170  GEN  Lucknow                 Swati Singh   \n",
              "4    227      Lucknow West     171  GEN  Lucknow     Suresh Kumar Shrivastav   \n",
              "5    226     Lucknow North     172  GEN  Lucknow              Dr.Neeraj Bora   \n",
              "6    225      Lucknow East     173  GEN  Lucknow  Ashutosh Tandan \"gopal Ji\"   \n",
              "7    224   Lucknow Central     174  GEN  Lucknow              Brijesh Pathak   \n",
              "8      0    Lucknow Cantt.     175  GEN  Lucknow             Dr. Reeta Joshi   \n",
              "\n",
              "                   Party  Total Electors  Total Votes   Poll%  Margin Margin %  \n",
              "0  Bharatiya Janta Party          340473       226032  66.4 %   22668    10.0%  \n",
              "1  Bharatiya Janta Party          395859       262491  66.3 %   17584     6.7%  \n",
              "2        Samajwadi Party          341161       219099  64.2 %     530     0.2%  \n",
              "3  Bharatiya Janta Party          498557       288921  58.0 %   34179    11.8%  \n",
              "4  Bharatiya Janta Party          387847       216919  55.9 %   13072     6.0%  \n",
              "5  Bharatiya Janta Party          403281       225077  55.8 %   27276    12.1%  \n",
              "6  Bharatiya Janta Party          422779       226368  53.5 %   79230    35.0%  \n",
              "7  Bharatiya Janta Party          366950       194201  52.9 %    5094     2.6%  \n",
              "8  Bharatiya Janta Party          368291       186283  50.6 %   33796    18.1%  "
            ],
            "text/html": [
              "\n",
              "  <div id=\"df-2ac47a2e-56de-40ab-9167-81e00fc0e145\">\n",
              "    <div class=\"colab-df-container\">\n",
              "      <div>\n",
              "<style scoped>\n",
              "    .dataframe tbody tr th:only-of-type {\n",
              "        vertical-align: middle;\n",
              "    }\n",
              "\n",
              "    .dataframe tbody tr th {\n",
              "        vertical-align: top;\n",
              "    }\n",
              "\n",
              "    .dataframe thead th {\n",
              "        text-align: right;\n",
              "    }\n",
              "</style>\n",
              "<table border=\"1\" class=\"dataframe\">\n",
              "  <thead>\n",
              "    <tr style=\"text-align: right;\">\n",
              "      <th></th>\n",
              "      <th>index</th>\n",
              "      <th>AC Name</th>\n",
              "      <th>AC No.</th>\n",
              "      <th>Type</th>\n",
              "      <th>District</th>\n",
              "      <th>Winning Candidate</th>\n",
              "      <th>Party</th>\n",
              "      <th>Total Electors</th>\n",
              "      <th>Total Votes</th>\n",
              "      <th>Poll%</th>\n",
              "      <th>Margin</th>\n",
              "      <th>Margin %</th>\n",
              "    </tr>\n",
              "  </thead>\n",
              "  <tbody>\n",
              "    <tr>\n",
              "      <th>0</th>\n",
              "      <td>241</td>\n",
              "      <td>Malihabad</td>\n",
              "      <td>168</td>\n",
              "      <td>SC</td>\n",
              "      <td>Lucknow</td>\n",
              "      <td>Jai Devi</td>\n",
              "      <td>Bharatiya Janta Party</td>\n",
              "      <td>340473</td>\n",
              "      <td>226032</td>\n",
              "      <td>66.4 %</td>\n",
              "      <td>22668</td>\n",
              "      <td>10.0%</td>\n",
              "    </tr>\n",
              "    <tr>\n",
              "      <th>1</th>\n",
              "      <td>40</td>\n",
              "      <td>Bakshi Kaa Talab</td>\n",
              "      <td>169</td>\n",
              "      <td>GEN</td>\n",
              "      <td>Lucknow</td>\n",
              "      <td>Avinash Trivedi</td>\n",
              "      <td>Bharatiya Janta Party</td>\n",
              "      <td>395859</td>\n",
              "      <td>262491</td>\n",
              "      <td>66.3 %</td>\n",
              "      <td>17584</td>\n",
              "      <td>6.7%</td>\n",
              "    </tr>\n",
              "    <tr>\n",
              "      <th>2</th>\n",
              "      <td>271</td>\n",
              "      <td>Mohanlalganj</td>\n",
              "      <td>176</td>\n",
              "      <td>SC</td>\n",
              "      <td>Lucknow</td>\n",
              "      <td>Ambrish Singh Pushkar</td>\n",
              "      <td>Samajwadi Party</td>\n",
              "      <td>341161</td>\n",
              "      <td>219099</td>\n",
              "      <td>64.2 %</td>\n",
              "      <td>530</td>\n",
              "      <td>0.2%</td>\n",
              "    </tr>\n",
              "    <tr>\n",
              "      <th>3</th>\n",
              "      <td>351</td>\n",
              "      <td>Sarojini Nagar</td>\n",
              "      <td>170</td>\n",
              "      <td>GEN</td>\n",
              "      <td>Lucknow</td>\n",
              "      <td>Swati Singh</td>\n",
              "      <td>Bharatiya Janta Party</td>\n",
              "      <td>498557</td>\n",
              "      <td>288921</td>\n",
              "      <td>58.0 %</td>\n",
              "      <td>34179</td>\n",
              "      <td>11.8%</td>\n",
              "    </tr>\n",
              "    <tr>\n",
              "      <th>4</th>\n",
              "      <td>227</td>\n",
              "      <td>Lucknow West</td>\n",
              "      <td>171</td>\n",
              "      <td>GEN</td>\n",
              "      <td>Lucknow</td>\n",
              "      <td>Suresh Kumar Shrivastav</td>\n",
              "      <td>Bharatiya Janta Party</td>\n",
              "      <td>387847</td>\n",
              "      <td>216919</td>\n",
              "      <td>55.9 %</td>\n",
              "      <td>13072</td>\n",
              "      <td>6.0%</td>\n",
              "    </tr>\n",
              "    <tr>\n",
              "      <th>5</th>\n",
              "      <td>226</td>\n",
              "      <td>Lucknow North</td>\n",
              "      <td>172</td>\n",
              "      <td>GEN</td>\n",
              "      <td>Lucknow</td>\n",
              "      <td>Dr.Neeraj Bora</td>\n",
              "      <td>Bharatiya Janta Party</td>\n",
              "      <td>403281</td>\n",
              "      <td>225077</td>\n",
              "      <td>55.8 %</td>\n",
              "      <td>27276</td>\n",
              "      <td>12.1%</td>\n",
              "    </tr>\n",
              "    <tr>\n",
              "      <th>6</th>\n",
              "      <td>225</td>\n",
              "      <td>Lucknow East</td>\n",
              "      <td>173</td>\n",
              "      <td>GEN</td>\n",
              "      <td>Lucknow</td>\n",
              "      <td>Ashutosh Tandan \"gopal Ji\"</td>\n",
              "      <td>Bharatiya Janta Party</td>\n",
              "      <td>422779</td>\n",
              "      <td>226368</td>\n",
              "      <td>53.5 %</td>\n",
              "      <td>79230</td>\n",
              "      <td>35.0%</td>\n",
              "    </tr>\n",
              "    <tr>\n",
              "      <th>7</th>\n",
              "      <td>224</td>\n",
              "      <td>Lucknow Central</td>\n",
              "      <td>174</td>\n",
              "      <td>GEN</td>\n",
              "      <td>Lucknow</td>\n",
              "      <td>Brijesh Pathak</td>\n",
              "      <td>Bharatiya Janta Party</td>\n",
              "      <td>366950</td>\n",
              "      <td>194201</td>\n",
              "      <td>52.9 %</td>\n",
              "      <td>5094</td>\n",
              "      <td>2.6%</td>\n",
              "    </tr>\n",
              "    <tr>\n",
              "      <th>8</th>\n",
              "      <td>0</td>\n",
              "      <td>Lucknow Cantt.</td>\n",
              "      <td>175</td>\n",
              "      <td>GEN</td>\n",
              "      <td>Lucknow</td>\n",
              "      <td>Dr. Reeta Joshi</td>\n",
              "      <td>Bharatiya Janta Party</td>\n",
              "      <td>368291</td>\n",
              "      <td>186283</td>\n",
              "      <td>50.6 %</td>\n",
              "      <td>33796</td>\n",
              "      <td>18.1%</td>\n",
              "    </tr>\n",
              "  </tbody>\n",
              "</table>\n",
              "</div>\n",
              "      <button class=\"colab-df-convert\" onclick=\"convertToInteractive('df-2ac47a2e-56de-40ab-9167-81e00fc0e145')\"\n",
              "              title=\"Convert this dataframe to an interactive table.\"\n",
              "              style=\"display:none;\">\n",
              "        \n",
              "  <svg xmlns=\"http://www.w3.org/2000/svg\" height=\"24px\"viewBox=\"0 0 24 24\"\n",
              "       width=\"24px\">\n",
              "    <path d=\"M0 0h24v24H0V0z\" fill=\"none\"/>\n",
              "    <path d=\"M18.56 5.44l.94 2.06.94-2.06 2.06-.94-2.06-.94-.94-2.06-.94 2.06-2.06.94zm-11 1L8.5 8.5l.94-2.06 2.06-.94-2.06-.94L8.5 2.5l-.94 2.06-2.06.94zm10 10l.94 2.06.94-2.06 2.06-.94-2.06-.94-.94-2.06-.94 2.06-2.06.94z\"/><path d=\"M17.41 7.96l-1.37-1.37c-.4-.4-.92-.59-1.43-.59-.52 0-1.04.2-1.43.59L10.3 9.45l-7.72 7.72c-.78.78-.78 2.05 0 2.83L4 21.41c.39.39.9.59 1.41.59.51 0 1.02-.2 1.41-.59l7.78-7.78 2.81-2.81c.8-.78.8-2.07 0-2.86zM5.41 20L4 18.59l7.72-7.72 1.47 1.35L5.41 20z\"/>\n",
              "  </svg>\n",
              "      </button>\n",
              "      \n",
              "  <style>\n",
              "    .colab-df-container {\n",
              "      display:flex;\n",
              "      flex-wrap:wrap;\n",
              "      gap: 12px;\n",
              "    }\n",
              "\n",
              "    .colab-df-convert {\n",
              "      background-color: #E8F0FE;\n",
              "      border: none;\n",
              "      border-radius: 50%;\n",
              "      cursor: pointer;\n",
              "      display: none;\n",
              "      fill: #1967D2;\n",
              "      height: 32px;\n",
              "      padding: 0 0 0 0;\n",
              "      width: 32px;\n",
              "    }\n",
              "\n",
              "    .colab-df-convert:hover {\n",
              "      background-color: #E2EBFA;\n",
              "      box-shadow: 0px 1px 2px rgba(60, 64, 67, 0.3), 0px 1px 3px 1px rgba(60, 64, 67, 0.15);\n",
              "      fill: #174EA6;\n",
              "    }\n",
              "\n",
              "    [theme=dark] .colab-df-convert {\n",
              "      background-color: #3B4455;\n",
              "      fill: #D2E3FC;\n",
              "    }\n",
              "\n",
              "    [theme=dark] .colab-df-convert:hover {\n",
              "      background-color: #434B5C;\n",
              "      box-shadow: 0px 1px 3px 1px rgba(0, 0, 0, 0.15);\n",
              "      filter: drop-shadow(0px 1px 2px rgba(0, 0, 0, 0.3));\n",
              "      fill: #FFFFFF;\n",
              "    }\n",
              "  </style>\n",
              "\n",
              "      <script>\n",
              "        const buttonEl =\n",
              "          document.querySelector('#df-2ac47a2e-56de-40ab-9167-81e00fc0e145 button.colab-df-convert');\n",
              "        buttonEl.style.display =\n",
              "          google.colab.kernel.accessAllowed ? 'block' : 'none';\n",
              "\n",
              "        async function convertToInteractive(key) {\n",
              "          const element = document.querySelector('#df-2ac47a2e-56de-40ab-9167-81e00fc0e145');\n",
              "          const dataTable =\n",
              "            await google.colab.kernel.invokeFunction('convertToInteractive',\n",
              "                                                     [key], {});\n",
              "          if (!dataTable) return;\n",
              "\n",
              "          const docLinkHtml = 'Like what you see? Visit the ' +\n",
              "            '<a target=\"_blank\" href=https://colab.research.google.com/notebooks/data_table.ipynb>data table notebook</a>'\n",
              "            + ' to learn more about interactive tables.';\n",
              "          element.innerHTML = '';\n",
              "          dataTable['output_type'] = 'display_data';\n",
              "          await google.colab.output.renderOutput(dataTable, element);\n",
              "          const docLink = document.createElement('div');\n",
              "          docLink.innerHTML = docLinkHtml;\n",
              "          element.appendChild(docLink);\n",
              "        }\n",
              "      </script>\n",
              "    </div>\n",
              "  </div>\n",
              "  "
            ]
          },
          "metadata": {},
          "execution_count": 165
        }
      ],
      "source": [
        "kk=k.sort_values(by = 'Poll%',ascending=False)\n",
        "kk=kk.reset_index()\n",
        "kk"
      ]
    },
    {
      "cell_type": "code",
      "execution_count": 171,
      "metadata": {
        "id": "VFt8ajGrT4_k",
        "colab": {
          "base_uri": "https://localhost:8080/",
          "height": 36
        },
        "outputId": "8307d4d1-e8ba-4284-e599-1bd09640bc1d"
      },
      "outputs": [
        {
          "output_type": "execute_result",
          "data": {
            "text/plain": [
              "'66.4 %'"
            ],
            "application/vnd.google.colaboratory.intrinsic+json": {
              "type": "string"
            }
          },
          "metadata": {},
          "execution_count": 171
        }
      ],
      "source": [
        " kk['Poll%'].max()  # alternate way dmax=kk.loc[[0],['Poll%']] "
      ]
    },
    {
      "cell_type": "code",
      "source": [
        "print('Maximum polling percentage in any constituncy in my district is  '+ kk['Poll%'].max() )"
      ],
      "metadata": {
        "colab": {
          "base_uri": "https://localhost:8080/"
        },
        "id": "_6MwGAa7z2-K",
        "outputId": "25ed01a9-a6a8-41a7-fbca-2198882066cc"
      },
      "execution_count": 170,
      "outputs": [
        {
          "output_type": "stream",
          "name": "stdout",
          "text": [
            "Maximum polling percentage in any constituncy in my district is  66.4 %\n"
          ]
        }
      ]
    },
    {
      "cell_type": "code",
      "source": [
        ""
      ],
      "metadata": {
        "id": "uN8I4SGyzsor"
      },
      "execution_count": null,
      "outputs": []
    },
    {
      "cell_type": "code",
      "execution_count": 191,
      "metadata": {
        "id": "5TFfo514T4_k"
      },
      "outputs": [],
      "source": [
        ""
      ]
    },
    {
      "cell_type": "code",
      "execution_count": null,
      "metadata": {
        "id": "Uzwy4w33T4_k"
      },
      "outputs": [],
      "source": [
        ""
      ]
    },
    {
      "cell_type": "code",
      "execution_count": null,
      "metadata": {
        "id": "plwVVe98T4_k"
      },
      "outputs": [],
      "source": [
        ""
      ]
    },
    {
      "cell_type": "code",
      "execution_count": null,
      "metadata": {
        "id": "EeomawX_T4_l"
      },
      "outputs": [],
      "source": [
        ""
      ]
    },
    {
      "cell_type": "markdown",
      "metadata": {
        "id": "Is_kzBpdT4_l"
      },
      "source": [
        "# The Bigger Picture \n",
        "# After doing analysis of your district we will now look at overall state results\n",
        "# Answer the following questions:- \n"
      ]
    },
    {
      "cell_type": "markdown",
      "metadata": {
        "id": "EzIBKGg7T4_l"
      },
      "source": [
        "\n",
        "\n",
        "\n",
        "# 1.)Which party won the most seats in the election?  Does that party is in majority?\n",
        "# 2.)Which party won the second most seats in election and how many seats it won ?\n",
        "# 3.)What is the fifth largest party and how many independents won?"
      ]
    },
    {
      "cell_type": "code",
      "execution_count": 21,
      "metadata": {
        "id": "hmerYtHxT4_m"
      },
      "outputs": [],
      "source": [
        "t=ad['Party'].value_counts()\n",
        "\n",
        "# Hint :- see how did i print the district list ? What does the number after each district represent ? Can same functin be applied here?"
      ]
    },
    {
      "cell_type": "code",
      "execution_count": 22,
      "metadata": {
        "id": "IS38M4gcT4_m",
        "colab": {
          "base_uri": "https://localhost:8080/"
        },
        "outputId": "0ffeda71-b43f-43cf-eee5-8663c78b3fd7"
      },
      "outputs": [
        {
          "output_type": "execute_result",
          "data": {
            "text/plain": [
              "Bharatiya Janta Party                   312\n",
              "Samajwadi Party                          47\n",
              "Bahujan Samaj Party                      19\n",
              "Apna Dal (Soneylal)                       9\n",
              "Indian National Congress                  7\n",
              "Suheldev Bhartiya Samaj Party             4\n",
              "Independent                               3\n",
              "Rashtriya Lok Dal                         1\n",
              "Nirbal Indian Shoshit Hamara Aam Dal      1\n",
              "Name: Party, dtype: int64"
            ]
          },
          "metadata": {},
          "execution_count": 22
        }
      ],
      "source": [
        "t"
      ]
    },
    {
      "cell_type": "code",
      "source": [
        "print(\"Largest Party \" + t.index[0])\n",
        "print(\"Second Largest Party {} with {} seats\".format(t.index[1],t[1]))"
      ],
      "metadata": {
        "colab": {
          "base_uri": "https://localhost:8080/"
        },
        "id": "XpMotIfnR7Zo",
        "outputId": "ddd599ce-bd05-47f9-9d61-53b95e6561d0"
      },
      "execution_count": 23,
      "outputs": [
        {
          "output_type": "stream",
          "name": "stdout",
          "text": [
            "Largest PartyBharatiya Janta Party\n",
            "Second Largest Party Samajwadi Party with 47 seats\n"
          ]
        }
      ]
    },
    {
      "cell_type": "code",
      "source": [
        "print(\"Fifth Largest Party \" + t.index[4])\n",
        "print(\"Independents \"+ str(ad[ad['Party']=='Independent'].Party.count()))"
      ],
      "metadata": {
        "colab": {
          "base_uri": "https://localhost:8080/"
        },
        "id": "SASVSYcyb2hR",
        "outputId": "d11a1de8-2074-4c17-80cc-10200eec1c1b"
      },
      "execution_count": 28,
      "outputs": [
        {
          "output_type": "stream",
          "name": "stdout",
          "text": [
            "Fifth Largest Party Indian National Congress\n",
            "Independents 3\n"
          ]
        }
      ]
    },
    {
      "cell_type": "code",
      "execution_count": 24,
      "metadata": {
        "id": "ppS4nXBKT4_n",
        "colab": {
          "base_uri": "https://localhost:8080/"
        },
        "outputId": "b4a7ac5f-2ef9-4865-9ece-d2bedc5d5d15"
      },
      "outputs": [
        {
          "output_type": "execute_result",
          "data": {
            "text/plain": [
              "AC Name              3\n",
              "AC No.               3\n",
              "Type                 3\n",
              "District             3\n",
              "Winning Candidate    3\n",
              "Party                3\n",
              "Total Electors       3\n",
              "Total Votes          3\n",
              "Poll%                3\n",
              "Margin               3\n",
              "Margin %             3\n",
              "dtype: int64"
            ]
          },
          "metadata": {},
          "execution_count": 24
        }
      ],
      "source": [
        "ad[ad['Party']=='Independent'].count()"
      ]
    },
    {
      "cell_type": "code",
      "execution_count": null,
      "metadata": {
        "id": "ha6moacsT4_n"
      },
      "outputs": [],
      "source": [
        ""
      ]
    },
    {
      "cell_type": "markdown",
      "metadata": {
        "id": "vGYaDUfET4_o"
      },
      "source": [
        "# Margins !!!"
      ]
    },
    {
      "cell_type": "markdown",
      "metadata": {
        "id": "Yp4s7NwvT4_p"
      },
      "source": [
        "# 1.) In the district of Varanasi ,what is the highest margin for victory in any constituancy?\n",
        "# 2.) In which seat the winning candidate won with the highest margin and the lowest margin .Also mention their party .\n",
        "\n",
        "# 3.) Which constituncies saw most polling and least polling and which party won in these seats?\n",
        "\n",
        "# 4.) Which candidate of the second largest party won with the most margin ?\n",
        "# 5.) Which independent candidate won with the most margin?\n",
        "# 6.) Which candidate of the largest party won with the lowest margin ?\n"
      ]
    },
    {
      "cell_type": "code",
      "source": [
        ""
      ],
      "metadata": {
        "id": "eCaYfL2VdjL7"
      },
      "execution_count": null,
      "outputs": []
    },
    {
      "cell_type": "code",
      "execution_count": 29,
      "metadata": {
        "id": "bo9Qru6YT4_p"
      },
      "outputs": [],
      "source": [
        "b='Varanasi'\n",
        "# HInt :- Sorting is a nice word . "
      ]
    },
    {
      "cell_type": "code",
      "execution_count": 56,
      "metadata": {
        "id": "lmoGWvxyT4_q",
        "colab": {
          "base_uri": "https://localhost:8080/"
        },
        "outputId": "6dea2649-3968-4efa-edaa-2ea4322bbd11"
      },
      "outputs": [
        {
          "output_type": "stream",
          "name": "stdout",
          "text": [
            "(8, 12)\n"
          ]
        }
      ],
      "source": [
        "q=ad[ad['District']==b].sort_values(by='Margin')\n",
        "q=q.reset_index()\n",
        "print(q.shape)\n",
        "hm=0\n",
        "ttt=q.loc[[7],['Margin']]\n",
        "for i in ttt['Margin']:\n",
        "  hm=i"
      ]
    },
    {
      "cell_type": "code",
      "source": [
        "print('Highest Margin for any winning candidate in the district of Varanasi is '+ str(hm))"
      ],
      "metadata": {
        "colab": {
          "base_uri": "https://localhost:8080/"
        },
        "id": "5ozU3zjvcuOy",
        "outputId": "8599c35b-338d-447e-87f4-567e1db62ae7"
      },
      "execution_count": 157,
      "outputs": [
        {
          "output_type": "stream",
          "name": "stdout",
          "text": [
            "Highest Margin for any winning candidate in the district of Varanasi is 61326\n"
          ]
        }
      ]
    },
    {
      "cell_type": "code",
      "execution_count": null,
      "metadata": {
        "id": "5vgLlF_8T4_r",
        "colab": {
          "base_uri": "https://localhost:8080/"
        },
        "outputId": "36b6b040-53f0-4994-e8e4-8d4c499c4c2d"
      },
      "outputs": [
        {
          "output_type": "execute_result",
          "data": {
            "text/plain": [
              "          AC Name  AC No. Type District          Winning Candidate  \\\n",
              "0  Lucknow Cantt.     175  GEN  Lucknow            Dr. Reeta Joshi   \n",
              "1     Agra Cantt.      87   SC     Agra  Dr. Girraj Singh Dharmesh   \n",
              "2      Agra North      89  GEN     Agra          Jagan Prasad Garg   \n",
              "3      Agra Rural      90   SC     Agra            Hemlata Diwakar   \n",
              "4      Agra South      88  GEN     Agra         Yogendra Upadhyaya   \n",
              "\n",
              "                   Party  Total Electors  Total Votes   Poll%  Margin Margin %  \n",
              "0  Bharatiya Janta Party          368291       186283  50.6 %   33796    18.1%  \n",
              "1  Bharatiya Janta Party          427507       251631  58.9 %   46325    18.4%  \n",
              "2  Bharatiya Janta Party          395516       229503  58.0 %   86320    37.6%  \n",
              "3  Bharatiya Janta Party          392452       248070  63.2 %   65296    26.3%  \n",
              "4  Bharatiya Janta Party          348576       216472  62.1 %   54225    25.0%  "
            ],
            "text/html": [
              "\n",
              "  <div id=\"df-cf083aca-81a7-40c2-bb44-9877058ca101\">\n",
              "    <div class=\"colab-df-container\">\n",
              "      <div>\n",
              "<style scoped>\n",
              "    .dataframe tbody tr th:only-of-type {\n",
              "        vertical-align: middle;\n",
              "    }\n",
              "\n",
              "    .dataframe tbody tr th {\n",
              "        vertical-align: top;\n",
              "    }\n",
              "\n",
              "    .dataframe thead th {\n",
              "        text-align: right;\n",
              "    }\n",
              "</style>\n",
              "<table border=\"1\" class=\"dataframe\">\n",
              "  <thead>\n",
              "    <tr style=\"text-align: right;\">\n",
              "      <th></th>\n",
              "      <th>AC Name</th>\n",
              "      <th>AC No.</th>\n",
              "      <th>Type</th>\n",
              "      <th>District</th>\n",
              "      <th>Winning Candidate</th>\n",
              "      <th>Party</th>\n",
              "      <th>Total Electors</th>\n",
              "      <th>Total Votes</th>\n",
              "      <th>Poll%</th>\n",
              "      <th>Margin</th>\n",
              "      <th>Margin %</th>\n",
              "    </tr>\n",
              "  </thead>\n",
              "  <tbody>\n",
              "    <tr>\n",
              "      <th>0</th>\n",
              "      <td>Lucknow Cantt.</td>\n",
              "      <td>175</td>\n",
              "      <td>GEN</td>\n",
              "      <td>Lucknow</td>\n",
              "      <td>Dr. Reeta Joshi</td>\n",
              "      <td>Bharatiya Janta Party</td>\n",
              "      <td>368291</td>\n",
              "      <td>186283</td>\n",
              "      <td>50.6 %</td>\n",
              "      <td>33796</td>\n",
              "      <td>18.1%</td>\n",
              "    </tr>\n",
              "    <tr>\n",
              "      <th>1</th>\n",
              "      <td>Agra Cantt.</td>\n",
              "      <td>87</td>\n",
              "      <td>SC</td>\n",
              "      <td>Agra</td>\n",
              "      <td>Dr. Girraj Singh Dharmesh</td>\n",
              "      <td>Bharatiya Janta Party</td>\n",
              "      <td>427507</td>\n",
              "      <td>251631</td>\n",
              "      <td>58.9 %</td>\n",
              "      <td>46325</td>\n",
              "      <td>18.4%</td>\n",
              "    </tr>\n",
              "    <tr>\n",
              "      <th>2</th>\n",
              "      <td>Agra North</td>\n",
              "      <td>89</td>\n",
              "      <td>GEN</td>\n",
              "      <td>Agra</td>\n",
              "      <td>Jagan Prasad Garg</td>\n",
              "      <td>Bharatiya Janta Party</td>\n",
              "      <td>395516</td>\n",
              "      <td>229503</td>\n",
              "      <td>58.0 %</td>\n",
              "      <td>86320</td>\n",
              "      <td>37.6%</td>\n",
              "    </tr>\n",
              "    <tr>\n",
              "      <th>3</th>\n",
              "      <td>Agra Rural</td>\n",
              "      <td>90</td>\n",
              "      <td>SC</td>\n",
              "      <td>Agra</td>\n",
              "      <td>Hemlata Diwakar</td>\n",
              "      <td>Bharatiya Janta Party</td>\n",
              "      <td>392452</td>\n",
              "      <td>248070</td>\n",
              "      <td>63.2 %</td>\n",
              "      <td>65296</td>\n",
              "      <td>26.3%</td>\n",
              "    </tr>\n",
              "    <tr>\n",
              "      <th>4</th>\n",
              "      <td>Agra South</td>\n",
              "      <td>88</td>\n",
              "      <td>GEN</td>\n",
              "      <td>Agra</td>\n",
              "      <td>Yogendra Upadhyaya</td>\n",
              "      <td>Bharatiya Janta Party</td>\n",
              "      <td>348576</td>\n",
              "      <td>216472</td>\n",
              "      <td>62.1 %</td>\n",
              "      <td>54225</td>\n",
              "      <td>25.0%</td>\n",
              "    </tr>\n",
              "  </tbody>\n",
              "</table>\n",
              "</div>\n",
              "      <button class=\"colab-df-convert\" onclick=\"convertToInteractive('df-cf083aca-81a7-40c2-bb44-9877058ca101')\"\n",
              "              title=\"Convert this dataframe to an interactive table.\"\n",
              "              style=\"display:none;\">\n",
              "        \n",
              "  <svg xmlns=\"http://www.w3.org/2000/svg\" height=\"24px\"viewBox=\"0 0 24 24\"\n",
              "       width=\"24px\">\n",
              "    <path d=\"M0 0h24v24H0V0z\" fill=\"none\"/>\n",
              "    <path d=\"M18.56 5.44l.94 2.06.94-2.06 2.06-.94-2.06-.94-.94-2.06-.94 2.06-2.06.94zm-11 1L8.5 8.5l.94-2.06 2.06-.94-2.06-.94L8.5 2.5l-.94 2.06-2.06.94zm10 10l.94 2.06.94-2.06 2.06-.94-2.06-.94-.94-2.06-.94 2.06-2.06.94z\"/><path d=\"M17.41 7.96l-1.37-1.37c-.4-.4-.92-.59-1.43-.59-.52 0-1.04.2-1.43.59L10.3 9.45l-7.72 7.72c-.78.78-.78 2.05 0 2.83L4 21.41c.39.39.9.59 1.41.59.51 0 1.02-.2 1.41-.59l7.78-7.78 2.81-2.81c.8-.78.8-2.07 0-2.86zM5.41 20L4 18.59l7.72-7.72 1.47 1.35L5.41 20z\"/>\n",
              "  </svg>\n",
              "      </button>\n",
              "      \n",
              "  <style>\n",
              "    .colab-df-container {\n",
              "      display:flex;\n",
              "      flex-wrap:wrap;\n",
              "      gap: 12px;\n",
              "    }\n",
              "\n",
              "    .colab-df-convert {\n",
              "      background-color: #E8F0FE;\n",
              "      border: none;\n",
              "      border-radius: 50%;\n",
              "      cursor: pointer;\n",
              "      display: none;\n",
              "      fill: #1967D2;\n",
              "      height: 32px;\n",
              "      padding: 0 0 0 0;\n",
              "      width: 32px;\n",
              "    }\n",
              "\n",
              "    .colab-df-convert:hover {\n",
              "      background-color: #E2EBFA;\n",
              "      box-shadow: 0px 1px 2px rgba(60, 64, 67, 0.3), 0px 1px 3px 1px rgba(60, 64, 67, 0.15);\n",
              "      fill: #174EA6;\n",
              "    }\n",
              "\n",
              "    [theme=dark] .colab-df-convert {\n",
              "      background-color: #3B4455;\n",
              "      fill: #D2E3FC;\n",
              "    }\n",
              "\n",
              "    [theme=dark] .colab-df-convert:hover {\n",
              "      background-color: #434B5C;\n",
              "      box-shadow: 0px 1px 3px 1px rgba(0, 0, 0, 0.15);\n",
              "      filter: drop-shadow(0px 1px 2px rgba(0, 0, 0, 0.3));\n",
              "      fill: #FFFFFF;\n",
              "    }\n",
              "  </style>\n",
              "\n",
              "      <script>\n",
              "        const buttonEl =\n",
              "          document.querySelector('#df-cf083aca-81a7-40c2-bb44-9877058ca101 button.colab-df-convert');\n",
              "        buttonEl.style.display =\n",
              "          google.colab.kernel.accessAllowed ? 'block' : 'none';\n",
              "\n",
              "        async function convertToInteractive(key) {\n",
              "          const element = document.querySelector('#df-cf083aca-81a7-40c2-bb44-9877058ca101');\n",
              "          const dataTable =\n",
              "            await google.colab.kernel.invokeFunction('convertToInteractive',\n",
              "                                                     [key], {});\n",
              "          if (!dataTable) return;\n",
              "\n",
              "          const docLinkHtml = 'Like what you see? Visit the ' +\n",
              "            '<a target=\"_blank\" href=https://colab.research.google.com/notebooks/data_table.ipynb>data table notebook</a>'\n",
              "            + ' to learn more about interactive tables.';\n",
              "          element.innerHTML = '';\n",
              "          dataTable['output_type'] = 'display_data';\n",
              "          await google.colab.output.renderOutput(dataTable, element);\n",
              "          const docLink = document.createElement('div');\n",
              "          docLink.innerHTML = docLinkHtml;\n",
              "          element.appendChild(docLink);\n",
              "        }\n",
              "      </script>\n",
              "    </div>\n",
              "  </div>\n",
              "  "
            ]
          },
          "metadata": {},
          "execution_count": 29
        }
      ],
      "source": [
        "ad.head()"
      ]
    },
    {
      "cell_type": "code",
      "execution_count": 71,
      "metadata": {
        "id": "IXsQ0-0nT4_r"
      },
      "outputs": [],
      "source": [
        "vot=ad.sort_values(by='Total Votes',ascending =False)\n",
        "vot=vot.reset_index()\n",
        "\n",
        "mv=vot.loc[[0],['AC Name','Party','Total Votes']]\n",
        "lv=vot.loc[[402],['AC Name','Party','Total Votes']]"
      ]
    },
    {
      "cell_type": "code",
      "source": [
        "print('The constituency of ' + str(mv['AC Name'].values[0]) + \" saw the most polling with \" + str(mv['Total Votes'].values[0])+ \" votes and \" +str(mv['Party'].values[0])+ \" as the winner \")\n",
        "print('The constituency of ' + str(lv['AC Name'].values[0]) + \" saw the least polling with \" + str(lv['Total Votes'].values[0])+ \" votes and \" +str(lv['Party'].values[0])+ \" as the winner \")"
      ],
      "metadata": {
        "colab": {
          "base_uri": "https://localhost:8080/"
        },
        "id": "SSyRNfIXhBFA",
        "outputId": "62b07373-5e4b-485e-a616-c72e4ecfd6e2"
      },
      "execution_count": 73,
      "outputs": [
        {
          "output_type": "stream",
          "name": "stdout",
          "text": [
            "The constituency of Sahibabad saw the most polling with 422811 votes and Bharatiya Janta Party as the winner \n",
            "The constituency of Arya Nagar saw the least polling with 146784 votes and Samajwadi Party as the winner \n"
          ]
        }
      ]
    },
    {
      "cell_type": "code",
      "source": [
        "marg=ad.sort_values(by='Margin')\n",
        "marg=marg.reset_index()\n",
        "him=marg.loc[[0],['AC Name','Winning Candidate','Party','Margin']]\n",
        "lowm=marg.loc[[402],['AC Name','Winning Candidate','Party','Margin']]"
      ],
      "metadata": {
        "id": "5Rn5ZR1XlE_I"
      },
      "execution_count": 81,
      "outputs": []
    },
    {
      "cell_type": "code",
      "source": [
        "print(\"In the seat of \"+ him['AC Name'].values[0]+\" the winning cadidate won with the least margin , The margin was \"+str(him['Margin'].values[0]) )\n",
        "print(\"In the seat of \"+ lowm['AC Name'].values[0]+\" the winning cadidate won with the most margin , The margin was \"+str(lowm['Margin'].values[0]) )\n"
      ],
      "metadata": {
        "colab": {
          "base_uri": "https://localhost:8080/"
        },
        "id": "WRsEangAmGy6",
        "outputId": "939b4a60-1b2d-4f81-990c-3a72ccc2392c"
      },
      "execution_count": 86,
      "outputs": [
        {
          "output_type": "stream",
          "name": "stdout",
          "text": [
            "In the seat of Doomariyaganj the winning cadidate won with the least margin , The margin was 171\n",
            "In the seat of Sahibabad the winning cadidate won with the most margin , The margin was 150685\n"
          ]
        }
      ]
    },
    {
      "cell_type": "code",
      "execution_count": 109,
      "metadata": {
        "id": "7Oxu0Ps_T4_r",
        "colab": {
          "base_uri": "https://localhost:8080/"
        },
        "outputId": "91137770-4d3f-4e02-ab04-b328e03137bd"
      },
      "outputs": [
        {
          "output_type": "stream",
          "name": "stdout",
          "text": [
            "Samajwadi Party\n",
            "(47, 12)\n"
          ]
        }
      ],
      "source": [
        "lol=ad['Party'].value_counts()\n",
        "secpartyy=lol.index[1]\n",
        "print(secpartyy)\n",
        "qwe=ad[ad['Party']==secpartyy]\n",
        "qwe=qwe.sort_values(by='Margin')\n",
        "qwe=qwe.reset_index()\n",
        "print(qwe.shape)\n",
        "spm=qwe.loc[46,['Winning Candidate','Party','Margin']]\n",
        "\n"
      ]
    },
    {
      "cell_type": "code",
      "source": [
        "print(\"The candidate of secnond largest party i.e. \"+ secpartyy+ \" that won with the most margin is \"+ spm['Winning Candidate'][0:])"
      ],
      "metadata": {
        "colab": {
          "base_uri": "https://localhost:8080/"
        },
        "id": "hAf-Pqianrvg",
        "outputId": "423e256a-83c8-4032-d8aa-c8a9f6576a79"
      },
      "execution_count": 111,
      "outputs": [
        {
          "output_type": "stream",
          "name": "stdout",
          "text": [
            "The candidate of secnond largest party i.e. Samajwadi Party that won with the most margin is Mohammad Abdullah Azam Khan\n"
          ]
        }
      ]
    },
    {
      "cell_type": "code",
      "source": [
        ""
      ],
      "metadata": {
        "id": "F_jiFj0MkfxV"
      },
      "execution_count": null,
      "outputs": []
    },
    {
      "cell_type": "code",
      "execution_count": 113,
      "metadata": {
        "id": "fZVhg8srT4_s"
      },
      "outputs": [],
      "source": [
        "indmar=ad[ad['Party']=='Independent'].sort_values(by='Margin',ascending=False).reset_index().loc[[0],['AC Name','Winning Candidate','Margin','Total Votes']]"
      ]
    },
    {
      "cell_type": "code",
      "source": [
        "print(\"Independent candidate \"+indmar['Winning Candidate'].values[0]+\" won with the most margin \")"
      ],
      "metadata": {
        "colab": {
          "base_uri": "https://localhost:8080/"
        },
        "id": "qeoLySvZrgl0",
        "outputId": "8ef27e72-bb18-417e-dc11-fe457882907c"
      },
      "execution_count": 115,
      "outputs": [
        {
          "output_type": "stream",
          "name": "stdout",
          "text": [
            "Independent candidate Raghuraj Pratap Singh won with the most margin \n"
          ]
        }
      ]
    },
    {
      "cell_type": "code",
      "source": [
        ""
      ],
      "metadata": {
        "id": "GC0t31cNsL8X"
      },
      "execution_count": null,
      "outputs": []
    },
    {
      "cell_type": "code",
      "execution_count": 116,
      "metadata": {
        "id": "SCqpSzJfT4_s"
      },
      "outputs": [],
      "source": [
        "newpar=ad['Party'].value_counts().index[0]\n",
        "larlow=ad[ad['Party']==newpar].sort_values(by='Margin').reset_index().loc[[0],['Winning Candidate','AC Name','Margin']]"
      ]
    },
    {
      "cell_type": "code",
      "source": [
        "print('Winning candidate '+larlow['Winning Candidate'][0:]+\" of \"+ newpar+\" won with the least margin in his party \" )"
      ],
      "metadata": {
        "colab": {
          "base_uri": "https://localhost:8080/"
        },
        "id": "VxCuJX21sP1r",
        "outputId": "c7b6796a-922e-4389-cd00-b8a68ebb59e4"
      },
      "execution_count": 159,
      "outputs": [
        {
          "output_type": "stream",
          "name": "stdout",
          "text": [
            "0    Winning candidate Raghvendra Pratap Singh of Bharatiya Janta Party won with the least margin in his party \n",
            "Name: Winning Candidate, dtype: object\n"
          ]
        }
      ]
    },
    {
      "cell_type": "markdown",
      "metadata": {
        "id": "XV-5PSBvT4_s"
      },
      "source": [
        "# A bit tougher "
      ]
    },
    {
      "cell_type": "markdown",
      "metadata": {
        "id": "F2MmyyYTT4_t"
      },
      "source": [
        "# 1.) In seats where polling percentage is less than 50  Which party won the most seats  \n",
        "# 2.) In seats where polling percentage is more than 70 .Which candidate won with the most votes ?\n",
        "# 3.) What is the count of total voters in Uttar Pradesh ?"
      ]
    },
    {
      "cell_type": "code",
      "source": [
        "t=pd.read_csv('/content/UP Elections 2017 data.csv')"
      ],
      "metadata": {
        "id": "jO0OyfsMvGhb"
      },
      "execution_count": 138,
      "outputs": []
    },
    {
      "cell_type": "code",
      "execution_count": 150,
      "metadata": {
        "id": "pAB9E5zgT4_t",
        "colab": {
          "base_uri": "https://localhost:8080/"
        },
        "outputId": "801478f9-f135-4eaa-f8a0-0d2fc7af6149"
      },
      "outputs": [
        {
          "output_type": "execute_result",
          "data": {
            "text/plain": [
              "Bharatiya Janta Party    10\n",
              "Name: Party, dtype: int64"
            ]
          },
          "metadata": {},
          "execution_count": 150
        }
      ],
      "source": [
        "po=ad['Poll%'].copy()\n",
        "s=[]\n",
        "for i in range(len(po)):\n",
        "  po[i]=po[i][0:-1]\n",
        "  po[i]=float(po[i])\n",
        "  if (po[i]<50):\n",
        "     s.append(i)\n",
        "  \n",
        "toy=ad.loc[s,['Party','AC Name']]\n",
        "\n",
        "polpar=toy['Party'].value_counts().index[0]\n",
        "toy['Party'].value_counts()"
      ]
    },
    {
      "cell_type": "code",
      "execution_count": 152,
      "metadata": {
        "id": "nOJYrKtET4_u",
        "colab": {
          "base_uri": "https://localhost:8080/"
        },
        "outputId": "b57e9fb1-4f70-4b65-99c8-3e2ef43cc54d"
      },
      "outputs": [
        {
          "output_type": "stream",
          "name": "stdout",
          "text": [
            "In the areas where poll % was less than 50 Bharatiya Janta Party won the most number of seats\n"
          ]
        }
      ],
      "source": [
        "print(\"In the areas where poll % was less than 50 \" + polpar +\" won the most number of seats\")"
      ]
    },
    {
      "cell_type": "code",
      "execution_count": 190,
      "metadata": {
        "id": "-p8UiUYeT4_u",
        "colab": {
          "base_uri": "https://localhost:8080/"
        },
        "outputId": "b3b58e0e-d483-4df1-9d20-0cb1e431aa3b"
      },
      "outputs": [
        {
          "output_type": "execute_result",
          "data": {
            "text/plain": [
              "Bharatiya Janta Party       18\n",
              "Samajwadi Party              4\n",
              "Indian National Congress     2\n",
              "Name: Party, dtype: int64"
            ]
          },
          "metadata": {},
          "execution_count": 190
        }
      ],
      "source": [
        "o=[]\n",
        "for i in range(len(po)):\n",
        "   # We already converted all poll % value to float in the previous question so no need to do it again\n",
        "  if (po[i]>70.0):\n",
        "    o.append(i)\n",
        "poy=ad.loc[o,['Party','AC Name']]\n",
        "npolpar=poy['Party'].value_counts().index[0]\n",
        "poy['Party'].value_counts()"
      ]
    },
    {
      "cell_type": "code",
      "source": [
        "print(\"In the areas where poll % was higher than 70 \"+ npolpar +'Won the most seats ')"
      ],
      "metadata": {
        "colab": {
          "base_uri": "https://localhost:8080/"
        },
        "id": "zVE8uHn53b0i",
        "outputId": "ae5aef5f-f9df-4e34-f4ba-9aa248724800"
      },
      "execution_count": 187,
      "outputs": [
        {
          "output_type": "stream",
          "name": "stdout",
          "text": [
            "In the areas where poll % was higher than 70 Bharatiya Janta PartyWon the most seats \n"
          ]
        }
      ]
    },
    {
      "cell_type": "code",
      "source": [
        ""
      ],
      "metadata": {
        "id": "cPuZ7jyi1Afs"
      },
      "execution_count": 172,
      "outputs": []
    },
    {
      "cell_type": "code",
      "execution_count": null,
      "metadata": {
        "id": "PQa-jPZWT4_u"
      },
      "outputs": [],
      "source": [
        ""
      ]
    },
    {
      "cell_type": "code",
      "execution_count": 155,
      "metadata": {
        "id": "ooKq3y9_T4_u",
        "colab": {
          "base_uri": "https://localhost:8080/"
        },
        "outputId": "dbe7dcba-5ba9-4419-e712-388072ba34d2"
      },
      "outputs": [
        {
          "output_type": "stream",
          "name": "stdout",
          "text": [
            "The count of total number of votes in Uttar Pradesh is 85971223\n"
          ]
        }
      ],
      "source": [
        "print( \"The count of total number of votes in Uttar Pradesh is \"+ str(ad['Total Votes'].sum()))"
      ]
    },
    {
      "cell_type": "code",
      "execution_count": null,
      "metadata": {
        "id": "6E-X1rthT4_v"
      },
      "outputs": [],
      "source": [
        ""
      ]
    },
    {
      "cell_type": "code",
      "execution_count": null,
      "metadata": {
        "id": "8r4TCb7ET4_v"
      },
      "outputs": [],
      "source": [
        ""
      ]
    },
    {
      "cell_type": "code",
      "execution_count": null,
      "metadata": {
        "id": "0xq5lfXYT4_v"
      },
      "outputs": [],
      "source": [
        ""
      ]
    },
    {
      "cell_type": "markdown",
      "metadata": {
        "id": "z2vp3kamT4_v"
      },
      "source": [
        "![Vote-Corp.jpg](attachment:Vote-Corp.jpg)"
      ]
    },
    {
      "cell_type": "markdown",
      "metadata": {
        "id": "pVn4Xv8dT4_w"
      },
      "source": [
        "#                                    That's it for now !!!\n",
        "#                    If you felt it was easy    then GREAT !!!!\n",
        "#  \n",
        "#                             If you felt it was difficult  then \n",
        "\n",
        "\n",
        "\n",
        "\n",
        "#                                           NO WORRIES \n",
        "#                If you continue with dediacation , at some point of time , you will                                          look at it and say how easy it was !!!!\n",
        "\n",
        "#  SO Dont judge yourself with your other's performance . Just keep improving !!"
      ]
    },
    {
      "cell_type": "code",
      "source": [
        ""
      ],
      "metadata": {
        "id": "0EwgoS-ddlks"
      },
      "execution_count": null,
      "outputs": []
    }
  ],
  "metadata": {
    "kernelspec": {
      "display_name": "Python 3",
      "language": "python",
      "name": "python3"
    },
    "language_info": {
      "codemirror_mode": {
        "name": "ipython",
        "version": 3
      },
      "file_extension": ".py",
      "mimetype": "text/x-python",
      "name": "python",
      "nbconvert_exporter": "python",
      "pygments_lexer": "ipython3",
      "version": "3.8.5"
    },
    "colab": {
      "name": "U.P. Election Anaysis Solution .ipynb",
      "provenance": [],
      "collapsed_sections": [
        "MVjww9hlT4_K",
        "R-jixuWuT4_T",
        "FctYtH2bT4_V",
        "JNwB1yseT4_W",
        "XMAKwdrqT4_Y",
        "M64LA3UIT4_c",
        "65P6nIwjT4_d",
        "era5F1CKT4_f",
        "Is_kzBpdT4_l",
        "vGYaDUfET4_o",
        "XV-5PSBvT4_s"
      ]
    }
  },
  "nbformat": 4,
  "nbformat_minor": 0
}